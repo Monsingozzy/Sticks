{
 "cells": [
  {
   "cell_type": "markdown",
   "metadata": {},
   "source": [
    "# Sticks"
   ]
  },
  {
   "cell_type": "code",
   "execution_count": null,
   "metadata": {},
   "outputs": [
    {
     "name": "stdout",
     "output_type": "stream",
     "text": [
      "2\n",
      "4\n",
      "1 2 2 3\n",
      "3\n"
     ]
    }
   ],
   "source": [
    "for _ in range(int(input())): #start to upto last step user value \n",
    "    n=int(input())  #  take input \n",
    "    s=set(map(int,input().split())) # access as set value \n",
    "    if 0 in s:\n",
    "        s.remove(0)# check 0 if then remove  that stics\n",
    "    print(len(s)) # len of stics are ans "
   ]
  },
  {
   "cell_type": "markdown",
   "metadata": {},
   "source": [
    "## step1 : start steps that  upto user input \n",
    "\n",
    "## step2: take number of sticks in s as set we use \n",
    "\n",
    "## step3 : remove sticks that 0 \n",
    "\n",
    "## step4 : check len of s is the sticks are remain and print"
   ]
  },
  {
   "cell_type": "code",
   "execution_count": null,
   "metadata": {},
   "outputs": [],
   "source": []
  }
 ],
 "metadata": {
  "kernelspec": {
   "display_name": "Python 3",
   "language": "python",
   "name": "python3"
  },
  "language_info": {
   "codemirror_mode": {
    "name": "ipython",
    "version": 3
   },
   "file_extension": ".py",
   "mimetype": "text/x-python",
   "name": "python",
   "nbconvert_exporter": "python",
   "pygments_lexer": "ipython3",
   "version": "3.7.9"
  }
 },
 "nbformat": 4,
 "nbformat_minor": 4
}
